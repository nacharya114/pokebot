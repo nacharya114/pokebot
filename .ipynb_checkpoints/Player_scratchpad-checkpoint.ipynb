{
 "cells": [
  {
   "cell_type": "code",
   "execution_count": 3,
   "metadata": {},
   "outputs": [],
   "source": [
    "import asyncio\n",
    "from poke_env.player_configuration import PlayerConfiguration\n",
    "from poke_env.player.random_player import RandomPlayer\n",
    "from poke_env.player.baselines import SimpleHeuristicsPlayer\n",
    "from poke_env.server_configuration import ShowdownServerConfiguration\n",
    "from poke_env.player.utils import cross_evaluate\n",
    "\n",
    "from tabulate import tabulate"
   ]
  },
  {
   "cell_type": "code",
   "execution_count": 4,
   "metadata": {},
   "outputs": [],
   "source": [
    "player = SimpleHeuristicsPlayer(\n",
    "    player_configuration=PlayerConfiguration(\"JoeNextLine\", \"underground\"),\n",
    "    server_configuration=ShowdownServerConfiguration,\n",
    ")\n",
    "\n",
    "await player.send_challenges(\"meatout\", n_challenges=1)\n"
   ]
  },
  {
   "cell_type": "code",
   "execution_count": null,
   "metadata": {},
   "outputs": [],
   "source": []
  }
 ],
 "metadata": {
  "kernelspec": {
   "display_name": "Python (pkmn)",
   "language": "python",
   "name": "pk_env"
  },
  "language_info": {
   "codemirror_mode": {
    "name": "ipython",
    "version": 3
   },
   "file_extension": ".py",
   "mimetype": "text/x-python",
   "name": "python",
   "nbconvert_exporter": "python",
   "pygments_lexer": "ipython3",
   "version": "3.6.10"
  }
 },
 "nbformat": 4,
 "nbformat_minor": 2
}
