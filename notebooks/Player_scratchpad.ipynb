{
 "cells": [
  {
   "cell_type": "code",
   "execution_count": null,
   "metadata": {},
   "outputs": [],
   "source": [
    "import asyncio\n",
    "import nest_asyncio\n",
    "nest_asyncio.apply()\n",
    "\n",
    "from poke_env.player_configuration import PlayerConfiguration\n",
    "from poke_env.player.random_player import RandomPlayer\n",
    "from poke_env.player.baselines import SimpleHeuristicsPlayer\n",
    "from poke_env.server_configuration import ShowdownServerConfiguration\n",
    "from poke_env.player.utils import cross_evaluate\n",
    "\n",
    "from tabulate import tabulate\n",
    "\n",
    "%load_ext autoreload\n",
    "%autoreload 2"
   ]
  },
  {
   "cell_type": "code",
   "execution_count": null,
   "metadata": {},
   "outputs": [],
   "source": [
    "#Challenge A simple Heuristic Player on Showdown for fun\n",
    "player = SimpleHeuristicsPlayer(\n",
    "    player_configuration=PlayerConfiguration(\"JoeNextLine\", \"underground\"),\n",
    "    server_configuration=ShowdownServerConfiguration,\n",
    ")\n",
    "\n",
    "await player.send_challenges(\"meatout\", n_challenges=1)\n"
   ]
  },
  {
   "cell_type": "code",
   "execution_count": null,
   "metadata": {},
   "outputs": [],
   "source": []
  },
  {
   "cell_type": "code",
   "execution_count": null,
   "metadata": {},
   "outputs": [],
   "source": [
    "import json\n",
    "from dotmap import DotMap \n",
    "\n",
    "\n",
    "from pokebot.bots.state_engine import SimpleStateEngine, HeuristicStateEngine\n",
    "from pokebot.bots.bot import BotPlayer\n",
    "from pokebot.models.dqn import Model\n",
    "from pokebot.trainers.trainer import SimpleDQNTrainer"
   ]
  },
  {
   "cell_type": "code",
   "execution_count": null,
   "metadata": {},
   "outputs": [],
   "source": [
    "# Load hparams from file, this is where you would specify DQNAgent and Policy hyperparamters.\n",
    "hparams = DotMap(json.load(open('./hparams.json', 'r')))\n",
    "p_dict = hparams.policy\n",
    "a_dict = hparams.agent\n",
    "\n",
    "print((p_dict))"
   ]
  },
  {
   "cell_type": "code",
   "execution_count": null,
   "metadata": {},
   "outputs": [],
   "source": [
    "player = BotPlayer(\n",
    "    player_configuration=PlayerConfiguration(\"test2\",None),\n",
    "#     log_level=10,\n",
    "    state_engine=HeuristicStateEngine()   #Change StateEngine here, (Demo SimpleStateEngine(10))\n",
    "    )\n",
    "\n",
    "model = Model(player)"
   ]
  },
  {
   "cell_type": "code",
   "execution_count": null,
   "metadata": {},
   "outputs": [],
   "source": [
    "trainer = SimpleDQNTrainer(player, model, p_dict, a_dict)"
   ]
  },
  {
   "cell_type": "code",
   "execution_count": null,
   "metadata": {},
   "outputs": [],
   "source": [
    "# Pick an agent to train against\n",
    "# await trainer.train(opponent=RandomPlayer(battle_format=\"gen8randombattle\"))\n",
    "\n",
    "await trainer.train(opponent=SimpleHeuristicsPlayer(battle_format=\"gen8randombattle\"))"
   ]
  },
  {
   "cell_type": "code",
   "execution_count": null,
   "metadata": {},
   "outputs": [],
   "source": [
    "from poke_env.player.baselines import MaxBasePowerPlayer, SimpleHeuristicsPlayer\n",
    "\n",
    "opponents = [RandomPlayer(battle_format=\"gen8randombattle\"),\n",
    "            MaxBasePowerPlayer(battle_format=\"gen8randombattle\"),\n",
    "             SimpleHeuristicsPlayer(battle_format=\"gen8randombattle\")]\n",
    "\n",
    "await trainer.evaluate(opponents)"
   ]
  },
  {
   "cell_type": "code",
   "execution_count": null,
   "metadata": {},
   "outputs": [],
   "source": [
    "# Test agent against yourself\n",
    "\n",
    "trainer.player = BotPlayer(\n",
    "    player_configuration=PlayerConfiguration(\"JoeNextLine\",\"underground\"),\n",
    "    server_configuration=ShowdownServerConfiguration,\n",
    "#     log_level=10,\n",
    "    state_engine=SimpleStateEngine(10)\n",
    "    )\n",
    "\n",
    "asyncio.get_event_loop().run_until_complete(trainer.battle_human(\"meatout\"))"
   ]
  },
  {
   "cell_type": "code",
   "execution_count": null,
   "metadata": {},
   "outputs": [],
   "source": [
    "#Save current player\n",
    "\n",
    "trainer.agent.save_weights(\"../data/agents/bad.hdf5\")"
   ]
  },
  {
   "cell_type": "code",
   "execution_count": null,
   "metadata": {},
   "outputs": [],
   "source": [
    "#Load agent\n",
    "\n",
    "trainer.agent.load_weights(\"../data/agents/bad.hdf5\")"
   ]
  }
 ],
 "metadata": {
  "kernelspec": {
   "display_name": "Python (pkmn)",
   "language": "python",
   "name": "pk_env"
  },
  "language_info": {
   "codemirror_mode": {
    "name": "ipython",
    "version": 3
   },
   "file_extension": ".py",
   "mimetype": "text/x-python",
   "name": "python",
   "nbconvert_exporter": "python",
   "pygments_lexer": "ipython3",
   "version": "3.6.10"
  }
 },
 "nbformat": 4,
 "nbformat_minor": 2
}
