{
 "cells": [
  {
   "cell_type": "markdown",
   "metadata": {},
   "source": [
    "# Training Notebook\n",
    "\n",
    "Use this to train and interact with an agent in real time rather than having it run in the background"
   ]
  },
  {
   "cell_type": "code",
   "execution_count": 1,
   "metadata": {},
   "outputs": [
    {
     "name": "stdout",
     "output_type": "stream",
     "text": [
      "env: WANDB_NOTEBOOK_NAME=Training_Loop\n"
     ]
    },
    {
     "name": "stderr",
     "output_type": "stream",
     "text": [
      "C:\\Users\\nacha\\Miniconda3\\envs\\pk_env\\lib\\site-packages\\tensorflow\\python\\framework\\dtypes.py:516: FutureWarning: Passing (type, 1) or '1type' as a synonym of type is deprecated in a future version of numpy, it will be understood as (type, (1,)) / '(1,)type'.\n",
      "  _np_qint8 = np.dtype([(\"qint8\", np.int8, 1)])\n",
      "C:\\Users\\nacha\\Miniconda3\\envs\\pk_env\\lib\\site-packages\\tensorflow\\python\\framework\\dtypes.py:517: FutureWarning: Passing (type, 1) or '1type' as a synonym of type is deprecated in a future version of numpy, it will be understood as (type, (1,)) / '(1,)type'.\n",
      "  _np_quint8 = np.dtype([(\"quint8\", np.uint8, 1)])\n",
      "C:\\Users\\nacha\\Miniconda3\\envs\\pk_env\\lib\\site-packages\\tensorflow\\python\\framework\\dtypes.py:518: FutureWarning: Passing (type, 1) or '1type' as a synonym of type is deprecated in a future version of numpy, it will be understood as (type, (1,)) / '(1,)type'.\n",
      "  _np_qint16 = np.dtype([(\"qint16\", np.int16, 1)])\n",
      "C:\\Users\\nacha\\Miniconda3\\envs\\pk_env\\lib\\site-packages\\tensorflow\\python\\framework\\dtypes.py:519: FutureWarning: Passing (type, 1) or '1type' as a synonym of type is deprecated in a future version of numpy, it will be understood as (type, (1,)) / '(1,)type'.\n",
      "  _np_quint16 = np.dtype([(\"quint16\", np.uint16, 1)])\n",
      "C:\\Users\\nacha\\Miniconda3\\envs\\pk_env\\lib\\site-packages\\tensorflow\\python\\framework\\dtypes.py:520: FutureWarning: Passing (type, 1) or '1type' as a synonym of type is deprecated in a future version of numpy, it will be understood as (type, (1,)) / '(1,)type'.\n",
      "  _np_qint32 = np.dtype([(\"qint32\", np.int32, 1)])\n",
      "C:\\Users\\nacha\\Miniconda3\\envs\\pk_env\\lib\\site-packages\\tensorflow\\python\\framework\\dtypes.py:525: FutureWarning: Passing (type, 1) or '1type' as a synonym of type is deprecated in a future version of numpy, it will be understood as (type, (1,)) / '(1,)type'.\n",
      "  np_resource = np.dtype([(\"resource\", np.ubyte, 1)])\n",
      "C:\\Users\\nacha\\Miniconda3\\envs\\pk_env\\lib\\site-packages\\tensorboard\\compat\\tensorflow_stub\\dtypes.py:541: FutureWarning: Passing (type, 1) or '1type' as a synonym of type is deprecated in a future version of numpy, it will be understood as (type, (1,)) / '(1,)type'.\n",
      "  _np_qint8 = np.dtype([(\"qint8\", np.int8, 1)])\n",
      "C:\\Users\\nacha\\Miniconda3\\envs\\pk_env\\lib\\site-packages\\tensorboard\\compat\\tensorflow_stub\\dtypes.py:542: FutureWarning: Passing (type, 1) or '1type' as a synonym of type is deprecated in a future version of numpy, it will be understood as (type, (1,)) / '(1,)type'.\n",
      "  _np_quint8 = np.dtype([(\"quint8\", np.uint8, 1)])\n",
      "C:\\Users\\nacha\\Miniconda3\\envs\\pk_env\\lib\\site-packages\\tensorboard\\compat\\tensorflow_stub\\dtypes.py:543: FutureWarning: Passing (type, 1) or '1type' as a synonym of type is deprecated in a future version of numpy, it will be understood as (type, (1,)) / '(1,)type'.\n",
      "  _np_qint16 = np.dtype([(\"qint16\", np.int16, 1)])\n",
      "C:\\Users\\nacha\\Miniconda3\\envs\\pk_env\\lib\\site-packages\\tensorboard\\compat\\tensorflow_stub\\dtypes.py:544: FutureWarning: Passing (type, 1) or '1type' as a synonym of type is deprecated in a future version of numpy, it will be understood as (type, (1,)) / '(1,)type'.\n",
      "  _np_quint16 = np.dtype([(\"quint16\", np.uint16, 1)])\n",
      "C:\\Users\\nacha\\Miniconda3\\envs\\pk_env\\lib\\site-packages\\tensorboard\\compat\\tensorflow_stub\\dtypes.py:545: FutureWarning: Passing (type, 1) or '1type' as a synonym of type is deprecated in a future version of numpy, it will be understood as (type, (1,)) / '(1,)type'.\n",
      "  _np_qint32 = np.dtype([(\"qint32\", np.int32, 1)])\n",
      "C:\\Users\\nacha\\Miniconda3\\envs\\pk_env\\lib\\site-packages\\tensorboard\\compat\\tensorflow_stub\\dtypes.py:550: FutureWarning: Passing (type, 1) or '1type' as a synonym of type is deprecated in a future version of numpy, it will be understood as (type, (1,)) / '(1,)type'.\n",
      "  np_resource = np.dtype([(\"resource\", np.ubyte, 1)])\n"
     ]
    },
    {
     "data": {
      "text/html": [
       "\n",
       "                Logging results to <a href=\"https://wandb.com\" target=\"_blank\">Weights & Biases</a> <a href=\"https://docs.wandb.com/integrations/jupyter.html\" target=\"_blank\">(Documentation)</a>.<br/>\n",
       "                Project page: <a href=\"https://app.wandb.ai/nacharya114/pokebot\" target=\"_blank\">https://app.wandb.ai/nacharya114/pokebot</a><br/>\n",
       "                Run page: <a href=\"https://app.wandb.ai/nacharya114/pokebot/runs/r3g2ulsk\" target=\"_blank\">https://app.wandb.ai/nacharya114/pokebot/runs/r3g2ulsk</a><br/>\n",
       "            "
      ],
      "text/plain": [
       "<IPython.core.display.HTML object>"
      ]
     },
     "metadata": {},
     "output_type": "display_data"
    }
   ],
   "source": [
    "%env WANDB_NOTEBOOK_NAME=Training_Loop\n",
    "\n",
    "%load_ext autoreload\n",
    "%autoreload 2\n",
    "\n",
    "# Imports\n",
    "import dotmap\n",
    "import json\n",
    "import asyncio\n",
    "import os\n",
    "import importlib\n",
    "import wandb\n",
    "import nest_asyncio\n",
    "nest_asyncio.apply()\n",
    "\n",
    "from poke_env.player.random_player import RandomPlayer\n",
    "from poke_env.player_configuration import PlayerConfiguration\n",
    "from poke_env.player.baselines import MaxBasePowerPlayer, SimpleHeuristicsPlayer\n",
    "\n",
    "from pokebot import BotPlayer\n",
    "\n",
    "wandb.init(reinit=False)\n",
    "wandb.run.save()\n",
    "# Constants\n",
    "\n",
    "PIPELINE_PATH = os.path.join(os.curdir, \"hparams.json\")\n",
    "SAVE_PATH = os.path.join(wandb.run.dir, \"betterthanrandom.h5\")"
   ]
  },
  {
   "cell_type": "code",
   "execution_count": 2,
   "metadata": {},
   "outputs": [],
   "source": [
    "#TODO: pipeline change, define output file in json\n",
    "\n",
    "async def trainer(hparams, fp):\n",
    "    p_dict = hparams.policy\n",
    "    a_dict = hparams.agent\n",
    "\n",
    "    SEngine = importlib.import_module('pokebot.bots.state_engine')\n",
    "    se_clazz = getattr(SEngine, hparams.state_engine)\n",
    "    se_dict = hparams.se_params if hparams.se_params else {}\n",
    "\n",
    "    player = BotPlayer(\n",
    "        player_configuration=PlayerConfiguration(\"JoeNextLine\", \"underground\"),\n",
    "        state_engine=se_clazz(**se_dict)\n",
    "    )\n",
    "\n",
    "    m_lib = importlib.import_module('pokebot.models')\n",
    "    m_clazz = getattr(m_lib, hparams.model)\n",
    "    m_dict = hparams.model_params if hparams.model_params else {}\n",
    "\n",
    "    model = m_clazz(player, **m_dict)\n",
    "\n",
    "    train_lib = importlib.import_module('pokebot.trainers.trainer')\n",
    "    t_class = getattr(train_lib, hparams.trainer)\n",
    "    t_dict = hparams.trainer_params if hparams.trainer_params else {}\n",
    "    trainer = t_class(player, model, p_dict, a_dict, **t_dict)\n",
    "    \n",
    "    if os.path.exists(fp):\n",
    "        \n",
    "        trainer.agent.load_weights(fp)\n",
    "\n",
    "    return trainer\n",
    "\n",
    "async def train(trainer, fp):\n",
    "    await trainer.train()\n",
    "\n",
    "    opponents = [RandomPlayer(battle_format=\"gen8randombattle\"),\n",
    "                 MaxBasePowerPlayer(battle_format=\"gen8randombattle\"),\n",
    "                 SimpleHeuristicsPlayer(battle_format=\"gen8randombattle\")]\n",
    "\n",
    "    print(\"Beginning Eval\")\n",
    "\n",
    "    await trainer.evaluate(opponents)\n",
    "\n",
    "    trainer.agent.save_weights(fp)\n",
    "    "
   ]
  },
  {
   "cell_type": "code",
   "execution_count": 3,
   "metadata": {},
   "outputs": [],
   "source": [
    "hparams = dotmap.DotMap(json.load(open(PIPELINE_PATH, 'r')))\n",
    "SAVE_PATH = os.path.join(wandb.run.dir, \"test3_randbootstrap.h5\")\n",
    "\n",
    "wandb.config.update(hparams, allow_val_change=True)\n",
    "\n",
    "save_path = SAVE_PATH\n",
    "\n",
    "t = await trainer(hparams, save_path)"
   ]
  },
  {
   "cell_type": "code",
   "execution_count": 4,
   "metadata": {},
   "outputs": [
    {
     "name": "stderr",
     "output_type": "stream",
     "text": [
      "[autoreload of tensorflow.python.keras.layers.core failed: Traceback (most recent call last):\n",
      "  File \"C:\\Users\\nacha\\Miniconda3\\envs\\pk_env\\lib\\site-packages\\IPython\\extensions\\autoreload.py\", line 245, in check\n",
      "    superreload(m, reload, self.old_objects)\n",
      "  File \"C:\\Users\\nacha\\Miniconda3\\envs\\pk_env\\lib\\site-packages\\IPython\\extensions\\autoreload.py\", line 394, in superreload\n",
      "    module = reload(module)\n",
      "  File \"C:\\Users\\nacha\\Miniconda3\\envs\\pk_env\\lib\\imp.py\", line 315, in reload\n",
      "    return importlib.reload(module)\n",
      "  File \"C:\\Users\\nacha\\Miniconda3\\envs\\pk_env\\lib\\importlib\\__init__.py\", line 147, in reload\n",
      "    raise ImportError(msg.format(name), name=name)\n",
      "ImportError: module rl.agents.dqn not in sys.modules\n",
      "]\n"
     ]
    }
   ],
   "source": [
    "# Load old model from wandb\n",
    "model_name = \"betterthanrandom.h5\"\n",
    "\n",
    "RUN_ID = \"21wl53z8\"\n",
    "\n",
    "MODEL_PATH = \"notebooks/wandb/run-20200620_164732-3mmjfttq/test2.h5\"\n",
    "\n",
    "ABS_PATH = \"C:\\\\Users\\\\nacha\\\\Desktop\\\\PokeCode\\\\pokebot\\\\notebooks\\\\wandb\\\\run-20200620_214116-33ypcx1z\\\\test3_randbootstrap.h5\"\n",
    "\n",
    "# weights_file = wandb.restore(model_name, run_path=MODEL_PATH, root=os.curdir)\n",
    "\n",
    "t.agent.load_weights(ABS_PATH)"
   ]
  },
  {
   "cell_type": "code",
   "execution_count": 4,
   "metadata": {},
   "outputs": [
    {
     "name": "stdout",
     "output_type": "stream",
     "text": [
      "Training for 10000 steps ...\n",
      "Interval 1 (0 steps performed)\n",
      "\r",
      "    1/10000 [..............................] - ETA: 12:18 - reward: 0.0000e+00"
     ]
    },
    {
     "name": "stderr",
     "output_type": "stream",
     "text": [
      "[autoreload of tensorflow.python.keras.layers.core failed: Traceback (most recent call last):\n",
      "  File \"C:\\Users\\nacha\\Miniconda3\\envs\\pk_env\\lib\\site-packages\\IPython\\extensions\\autoreload.py\", line 245, in check\n",
      "    superreload(m, reload, self.old_objects)\n",
      "  File \"C:\\Users\\nacha\\Miniconda3\\envs\\pk_env\\lib\\site-packages\\IPython\\extensions\\autoreload.py\", line 394, in superreload\n",
      "    module = reload(module)\n",
      "  File \"C:\\Users\\nacha\\Miniconda3\\envs\\pk_env\\lib\\imp.py\", line 315, in reload\n",
      "    return importlib.reload(module)\n",
      "  File \"C:\\Users\\nacha\\Miniconda3\\envs\\pk_env\\lib\\importlib\\__init__.py\", line 147, in reload\n",
      "    raise ImportError(msg.format(name), name=name)\n",
      "ImportError: module rl.agents.dqn not in sys.modules\n",
      "]\n"
     ]
    },
    {
     "name": "stdout",
     "output_type": "stream",
     "text": [
      "10000/10000 [==============================] - 102s 10ms/step - reward: 0.4544\n",
      "done, took 101.608 seconds\n",
      "Beginning Eval\n",
      "Results against player: RandomPlayer 3\n",
      "DQN Evaluation: 97 victories out of 100 episodes\n",
      "Results against player: MaxBasePowerPlayer 1\n",
      "DQN Evaluation: 63 victories out of 100 episodes\n",
      "Results against player: SimpleHeuristicsPlayer 1\n",
      "DQN Evaluation: 19 victories out of 100 episodes\n"
     ]
    }
   ],
   "source": [
    "await train(t, save_path)"
   ]
  },
  {
   "cell_type": "code",
   "execution_count": 5,
   "metadata": {},
   "outputs": [
    {
     "name": "stdout",
     "output_type": "stream",
     "text": [
      "DQN Evaluation: 0 victories out of 1 episodes\n"
     ]
    },
    {
     "ename": "KeyboardInterrupt",
     "evalue": "",
     "output_type": "error",
     "traceback": [
      "\u001b[131m---------------------------------------------------------------------------\u001b[0m",
      "\u001b[131mKeyboardInterrupt\u001b[0m                         Traceback (most recent call last)",
      "\u001b[132m<ipython-input-5-85f16988caf5>\u001b[0m in \u001b[036m<module>\u001b[134m\u001b[0m\n\u001b[032m      1\u001b[0m \u001b[131m# Test agent against yourself\u001b[0m\u001b[133m\u001b[0m\u001b[133m\u001b[0m\u001b[133m\u001b[0m\u001b[0m\n\u001b[132m----> 2\u001b[133m \u001b[0masyncio\u001b[0m\u001b[133m.\u001b[0m\u001b[0mget_event_loop\u001b[0m\u001b[133m(\u001b[0m\u001b[133m)\u001b[0m\u001b[133m.\u001b[0m\u001b[0mrun_until_complete\u001b[0m\u001b[133m(\u001b[0m\u001b[0mt\u001b[0m\u001b[133m.\u001b[0m\u001b[0mbattle_human\u001b[0m\u001b[133m(\u001b[0m\u001b[134m\"meatout\"\u001b[0m\u001b[133m)\u001b[0m\u001b[133m)\u001b[0m\u001b[133m\u001b[0m\u001b[133m\u001b[0m\u001b[0m\n\u001b[0m",
      "\u001b[132m~\\Miniconda3\\envs\\pk_env\\lib\\site-packages\\nest_asyncio.py\u001b[0m in \u001b[036mrun_until_complete\u001b[134m(self, future)\u001b[0m\n\u001b[032m     52\u001b[0m             \u001b[0mf\u001b[0m\u001b[133m.\u001b[0m\u001b[0m_log_destroy_pending\u001b[0m \u001b[133m=\u001b[0m \u001b[132mFalse\u001b[0m\u001b[133m\u001b[0m\u001b[133m\u001b[0m\u001b[0m\n\u001b[032m     53\u001b[0m         \u001b[132mwhile\u001b[0m \u001b[132mnot\u001b[0m \u001b[0mf\u001b[0m\u001b[133m.\u001b[0m\u001b[0mdone\u001b[0m\u001b[133m(\u001b[0m\u001b[133m)\u001b[0m\u001b[133m:\u001b[0m\u001b[133m\u001b[0m\u001b[133m\u001b[0m\u001b[0m\n\u001b[132m---> 54\u001b[133m             \u001b[0mself\u001b[0m\u001b[133m.\u001b[0m\u001b[0m_run_once\u001b[0m\u001b[133m(\u001b[0m\u001b[133m)\u001b[0m\u001b[133m\u001b[0m\u001b[133m\u001b[0m\u001b[0m\n\u001b[0m\u001b[032m     55\u001b[0m             \u001b[132mif\u001b[0m \u001b[0mself\u001b[0m\u001b[133m.\u001b[0m\u001b[0m_stopping\u001b[0m\u001b[133m:\u001b[0m\u001b[133m\u001b[0m\u001b[133m\u001b[0m\u001b[0m\n\u001b[032m     56\u001b[0m                 \u001b[132mbreak\u001b[0m\u001b[133m\u001b[0m\u001b[133m\u001b[0m\u001b[0m\n",
      "\u001b[132m~\\Miniconda3\\envs\\pk_env\\lib\\site-packages\\nest_asyncio.py\u001b[0m in \u001b[036m_run_once\u001b[134m(self)\u001b[0m\n\u001b[032m     83\u001b[0m             \u001b[0mhandle\u001b[0m \u001b[133m=\u001b[0m \u001b[0mready\u001b[0m\u001b[133m.\u001b[0m\u001b[0mpopleft\u001b[0m\u001b[133m(\u001b[0m\u001b[133m)\u001b[0m\u001b[133m\u001b[0m\u001b[133m\u001b[0m\u001b[0m\n\u001b[032m     84\u001b[0m             \u001b[132mif\u001b[0m \u001b[132mnot\u001b[0m \u001b[0mhandle\u001b[0m\u001b[133m.\u001b[0m\u001b[0m_cancelled\u001b[0m\u001b[133m:\u001b[0m\u001b[133m\u001b[0m\u001b[133m\u001b[0m\u001b[0m\n\u001b[132m---> 85\u001b[133m                 \u001b[0mhandle\u001b[0m\u001b[133m.\u001b[0m\u001b[0m_run\u001b[0m\u001b[133m(\u001b[0m\u001b[133m)\u001b[0m\u001b[133m\u001b[0m\u001b[133m\u001b[0m\u001b[0m\n\u001b[0m\u001b[032m     86\u001b[0m         \u001b[0mhandle\u001b[0m \u001b[133m=\u001b[0m \u001b[132mNone\u001b[0m\u001b[133m\u001b[0m\u001b[133m\u001b[0m\u001b[0m\n\u001b[032m     87\u001b[0m \u001b[133m\u001b[0m\u001b[0m\n",
      "\u001b[132m~\\Miniconda3\\envs\\pk_env\\lib\\asyncio\\events.py\u001b[0m in \u001b[036m_run\u001b[134m(self)\u001b[0m\n\u001b[032m    143\u001b[0m     \u001b[132mdef\u001b[0m \u001b[0m_run\u001b[0m\u001b[133m(\u001b[0m\u001b[0mself\u001b[0m\u001b[133m)\u001b[0m\u001b[133m:\u001b[0m\u001b[133m\u001b[0m\u001b[133m\u001b[0m\u001b[0m\n\u001b[032m    144\u001b[0m         \u001b[132mtry\u001b[0m\u001b[133m:\u001b[0m\u001b[133m\u001b[0m\u001b[133m\u001b[0m\u001b[0m\n\u001b[132m--> 145\u001b[133m             \u001b[0mself\u001b[0m\u001b[133m.\u001b[0m\u001b[0m_callback\u001b[0m\u001b[133m(\u001b[0m\u001b[133m*\u001b[0m\u001b[0mself\u001b[0m\u001b[133m.\u001b[0m\u001b[0m_args\u001b[0m\u001b[133m)\u001b[0m\u001b[133m\u001b[0m\u001b[133m\u001b[0m\u001b[0m\n\u001b[0m\u001b[032m    146\u001b[0m         \u001b[132mexcept\u001b[0m \u001b[0mException\u001b[0m \u001b[132mas\u001b[0m \u001b[0mexc\u001b[0m\u001b[133m:\u001b[0m\u001b[133m\u001b[0m\u001b[133m\u001b[0m\u001b[0m\n\u001b[032m    147\u001b[0m             \u001b[0mcb\u001b[0m \u001b[133m=\u001b[0m \u001b[0m_format_callback_source\u001b[0m\u001b[133m(\u001b[0m\u001b[0mself\u001b[0m\u001b[133m.\u001b[0m\u001b[0m_callback\u001b[0m\u001b[133m,\u001b[0m \u001b[0mself\u001b[0m\u001b[133m.\u001b[0m\u001b[0m_args\u001b[0m\u001b[133m)\u001b[0m\u001b[133m\u001b[0m\u001b[133m\u001b[0m\u001b[0m\n",
      "\u001b[132m~\\Miniconda3\\envs\\pk_env\\lib\\site-packages\\nest_asyncio.py\u001b[0m in \u001b[036mstep\u001b[134m(task, exc)\u001b[0m\n\u001b[032m    106\u001b[0m         \u001b[0mcurr_task\u001b[0m \u001b[133m=\u001b[0m \u001b[0mcurr_tasks\u001b[0m\u001b[133m.\u001b[0m\u001b[0mget\u001b[0m\u001b[133m(\u001b[0m\u001b[0mtask\u001b[0m\u001b[133m.\u001b[0m\u001b[0m_loop\u001b[0m\u001b[133m)\u001b[0m\u001b[133m\u001b[0m\u001b[133m\u001b[0m\u001b[0m\n\u001b[032m    107\u001b[0m         \u001b[132mtry\u001b[0m\u001b[133m:\u001b[0m\u001b[133m\u001b[0m\u001b[133m\u001b[0m\u001b[0m\n\u001b[132m--> 108\u001b[133m             \u001b[0mstep_orig\u001b[0m\u001b[133m(\u001b[0m\u001b[0mtask\u001b[0m\u001b[133m,\u001b[0m \u001b[0mexc\u001b[0m\u001b[133m)\u001b[0m\u001b[133m\u001b[0m\u001b[133m\u001b[0m\u001b[0m\n\u001b[0m\u001b[032m    109\u001b[0m         \u001b[132mfinally\u001b[0m\u001b[133m:\u001b[0m\u001b[133m\u001b[0m\u001b[133m\u001b[0m\u001b[0m\n\u001b[032m    110\u001b[0m             \u001b[132mif\u001b[0m \u001b[0mcurr_task\u001b[0m \u001b[132mis\u001b[0m \u001b[132mNone\u001b[0m\u001b[133m:\u001b[0m\u001b[133m\u001b[0m\u001b[133m\u001b[0m\u001b[0m\n",
      "\u001b[132m~\\Miniconda3\\envs\\pk_env\\lib\\asyncio\\tasks.py\u001b[0m in \u001b[036m_step\u001b[134m(***failed resolving arguments***)\u001b[0m\n\u001b[032m    178\u001b[0m                 \u001b[131m# We use the `send` method directly, because coroutines\u001b[0m\u001b[133m\u001b[0m\u001b[133m\u001b[0m\u001b[133m\u001b[0m\u001b[0m\n\u001b[032m    179\u001b[0m                 \u001b[131m# don't have `__iter__` and `__next__` methods.\u001b[0m\u001b[133m\u001b[0m\u001b[133m\u001b[0m\u001b[133m\u001b[0m\u001b[0m\n\u001b[132m--> 180\u001b[133m                 \u001b[0mresult\u001b[0m \u001b[133m=\u001b[0m \u001b[0mcoro\u001b[0m\u001b[133m.\u001b[0m\u001b[0msend\u001b[0m\u001b[133m(\u001b[0m\u001b[132mNone\u001b[0m\u001b[133m)\u001b[0m\u001b[133m\u001b[0m\u001b[133m\u001b[0m\u001b[0m\n\u001b[0m\u001b[032m    181\u001b[0m             \u001b[132melse\u001b[0m\u001b[133m:\u001b[0m\u001b[133m\u001b[0m\u001b[133m\u001b[0m\u001b[0m\n\u001b[032m    182\u001b[0m                 \u001b[0mresult\u001b[0m \u001b[133m=\u001b[0m \u001b[0mcoro\u001b[0m\u001b[133m.\u001b[0m\u001b[0mthrow\u001b[0m\u001b[133m(\u001b[0m\u001b[0mexc\u001b[0m\u001b[133m)\u001b[0m\u001b[133m\u001b[0m\u001b[133m\u001b[0m\u001b[0m\n",
      "\u001b[132mc:\\users\\nacha\\desktop\\pokecode\\pokebot\\pokebot\\trainers\\trainer.py\u001b[0m in \u001b[036mbattle_human\u001b[134m(self, opponent)\u001b[0m\n\u001b[032m     53\u001b[0m                            \u001b[0mopponent\u001b[0m\u001b[133m=\u001b[0m\u001b[0mopponent\u001b[0m\u001b[133m,\u001b[0m\u001b[133m\u001b[0m\u001b[133m\u001b[0m\u001b[0m\n\u001b[032m     54\u001b[0m                            \u001b[0menv_algorithm\u001b[0m\u001b[133m=\u001b[0m\u001b[0mdqn_evaluation\u001b[0m\u001b[133m,\u001b[0m\u001b[133m\u001b[0m\u001b[133m\u001b[0m\u001b[0m\n\u001b[132m---> 55\u001b[133m                            env_algorithm_kwargs={\"dqn\": self.agent, \"nb_episodes\": 1})\n\u001b[0m\u001b[032m     56\u001b[0m \u001b[133m\u001b[0m\u001b[0m\n\u001b[032m     57\u001b[0m \u001b[133m\u001b[0m\u001b[0m\n",
      "\u001b[132mc:\\users\\nacha\\desktop\\pokecode\\pokebot\\pokebot\\trainers\\utils.py\u001b[0m in \u001b[036mplay_against_human\u001b[134m(player, env_algorithm, opponent, env_algorithm_kwargs)\u001b[0m\n\u001b[032m     91\u001b[0m \u001b[133m\u001b[0m\u001b[0m\n\u001b[032m     92\u001b[0m     \u001b[132mwhile\u001b[0m \u001b[0mplayer\u001b[0m\u001b[133m.\u001b[0m\u001b[0m_start_new_battle\u001b[0m\u001b[133m:\u001b[0m\u001b[133m\u001b[0m\u001b[133m\u001b[0m\u001b[0m\n\u001b[132m---> 93\u001b[133m         \u001b[0mloop\u001b[0m\u001b[133m.\u001b[0m\u001b[0mrun_until_complete\u001b[0m\u001b[133m(\u001b[0m\u001b[0mlaunch_battles\u001b[0m\u001b[133m(\u001b[0m\u001b[0mplayer\u001b[0m\u001b[133m,\u001b[0m \u001b[0mopponent\u001b[0m\u001b[133m)\u001b[0m\u001b[133m)\u001b[0m\u001b[133m\u001b[0m\u001b[133m\u001b[0m\u001b[0m\n\u001b[0m\u001b[032m     94\u001b[0m     \u001b[0mthread\u001b[0m\u001b[133m.\u001b[0m\u001b[0mjoin\u001b[0m\u001b[133m(\u001b[0m\u001b[133m)\u001b[0m\u001b[133m\u001b[0m\u001b[133m\u001b[0m\u001b[0m\n",
      "\u001b[132m~\\Miniconda3\\envs\\pk_env\\lib\\site-packages\\nest_asyncio.py\u001b[0m in \u001b[036mrun_until_complete\u001b[134m(self, future)\u001b[0m\n\u001b[032m     52\u001b[0m             \u001b[0mf\u001b[0m\u001b[133m.\u001b[0m\u001b[0m_log_destroy_pending\u001b[0m \u001b[133m=\u001b[0m \u001b[132mFalse\u001b[0m\u001b[133m\u001b[0m\u001b[133m\u001b[0m\u001b[0m\n\u001b[032m     53\u001b[0m         \u001b[132mwhile\u001b[0m \u001b[132mnot\u001b[0m \u001b[0mf\u001b[0m\u001b[133m.\u001b[0m\u001b[0mdone\u001b[0m\u001b[133m(\u001b[0m\u001b[133m)\u001b[0m\u001b[133m:\u001b[0m\u001b[133m\u001b[0m\u001b[133m\u001b[0m\u001b[0m\n\u001b[132m---> 54\u001b[133m             \u001b[0mself\u001b[0m\u001b[133m.\u001b[0m\u001b[0m_run_once\u001b[0m\u001b[133m(\u001b[0m\u001b[133m)\u001b[0m\u001b[133m\u001b[0m\u001b[133m\u001b[0m\u001b[0m\n\u001b[0m\u001b[032m     55\u001b[0m             \u001b[132mif\u001b[0m \u001b[0mself\u001b[0m\u001b[133m.\u001b[0m\u001b[0m_stopping\u001b[0m\u001b[133m:\u001b[0m\u001b[133m\u001b[0m\u001b[133m\u001b[0m\u001b[0m\n\u001b[032m     56\u001b[0m                 \u001b[132mbreak\u001b[0m\u001b[133m\u001b[0m\u001b[133m\u001b[0m\u001b[0m\n",
      "\u001b[132m~\\Miniconda3\\envs\\pk_env\\lib\\site-packages\\nest_asyncio.py\u001b[0m in \u001b[036m_run_once\u001b[134m(self)\u001b[0m\n\u001b[032m     73\u001b[0m             \u001b[132melse\u001b[0m \u001b[0mmin\u001b[0m\u001b[133m(\u001b[0m\u001b[0mmax\u001b[0m\u001b[133m(\u001b[0m\u001b[136m0\u001b[0m\u001b[133m,\u001b[0m \u001b[0mscheduled\u001b[0m\u001b[133m[\u001b[0m\u001b[136m0\u001b[0m\u001b[133m]\u001b[0m\u001b[133m.\u001b[0m\u001b[0m_when\u001b[0m \u001b[133m-\u001b[0m \u001b[0mnow\u001b[0m\u001b[133m)\u001b[0m\u001b[133m,\u001b[0m \u001b[136m10\u001b[0m\u001b[133m)\u001b[0m \u001b[132mif\u001b[0m \u001b[0mscheduled\u001b[0m\u001b[031m \u001b[0m\u001b[031m\\\u001b[0m\u001b[133m\u001b[0m\u001b[133m\u001b[0m\u001b[0m\n\u001b[032m     74\u001b[0m             \u001b[132melse\u001b[0m \u001b[132mNone\u001b[0m\u001b[133m\u001b[0m\u001b[133m\u001b[0m\u001b[0m\n\u001b[132m---> 75\u001b[133m         \u001b[0mevent_list\u001b[0m \u001b[133m=\u001b[0m \u001b[0mself\u001b[0m\u001b[133m.\u001b[0m\u001b[0m_selector\u001b[0m\u001b[133m.\u001b[0m\u001b[0mselect\u001b[0m\u001b[133m(\u001b[0m\u001b[0mtimeout\u001b[0m\u001b[133m)\u001b[0m\u001b[133m\u001b[0m\u001b[133m\u001b[0m\u001b[0m\n\u001b[0m\u001b[032m     76\u001b[0m         \u001b[0mself\u001b[0m\u001b[133m.\u001b[0m\u001b[0m_process_events\u001b[0m\u001b[133m(\u001b[0m\u001b[0mevent_list\u001b[0m\u001b[133m)\u001b[0m\u001b[133m\u001b[0m\u001b[133m\u001b[0m\u001b[0m\n\u001b[032m     77\u001b[0m \u001b[133m\u001b[0m\u001b[0m\n",
      "\u001b[132m~\\Miniconda3\\envs\\pk_env\\lib\\selectors.py\u001b[0m in \u001b[036mselect\u001b[134m(self, timeout)\u001b[0m\n\u001b[032m    321\u001b[0m         \u001b[0mready\u001b[0m \u001b[133m=\u001b[0m \u001b[133m[\u001b[0m\u001b[133m]\u001b[0m\u001b[133m\u001b[0m\u001b[133m\u001b[0m\u001b[0m\n\u001b[032m    322\u001b[0m         \u001b[132mtry\u001b[0m\u001b[133m:\u001b[0m\u001b[133m\u001b[0m\u001b[133m\u001b[0m\u001b[0m\n\u001b[132m--> 323\u001b[133m             \u001b[0mr\u001b[0m\u001b[133m,\u001b[0m \u001b[0mw\u001b[0m\u001b[133m,\u001b[0m \u001b[0m_\u001b[0m \u001b[133m=\u001b[0m \u001b[0mself\u001b[0m\u001b[133m.\u001b[0m\u001b[0m_select\u001b[0m\u001b[133m(\u001b[0m\u001b[0mself\u001b[0m\u001b[133m.\u001b[0m\u001b[0m_readers\u001b[0m\u001b[133m,\u001b[0m \u001b[0mself\u001b[0m\u001b[133m.\u001b[0m\u001b[0m_writers\u001b[0m\u001b[133m,\u001b[0m \u001b[133m[\u001b[0m\u001b[133m]\u001b[0m\u001b[133m,\u001b[0m \u001b[0mtimeout\u001b[0m\u001b[133m)\u001b[0m\u001b[133m\u001b[0m\u001b[133m\u001b[0m\u001b[0m\n\u001b[0m\u001b[032m    324\u001b[0m         \u001b[132mexcept\u001b[0m \u001b[0mInterruptedError\u001b[0m\u001b[133m:\u001b[0m\u001b[133m\u001b[0m\u001b[133m\u001b[0m\u001b[0m\n\u001b[032m    325\u001b[0m             \u001b[132mreturn\u001b[0m \u001b[0mready\u001b[0m\u001b[133m\u001b[0m\u001b[133m\u001b[0m\u001b[0m\n",
      "\u001b[132m~\\Miniconda3\\envs\\pk_env\\lib\\selectors.py\u001b[0m in \u001b[036m_select\u001b[134m(self, r, w, _, timeout)\u001b[0m\n\u001b[032m    312\u001b[0m     \u001b[132mif\u001b[0m \u001b[0msys\u001b[0m\u001b[133m.\u001b[0m\u001b[0mplatform\u001b[0m \u001b[133m==\u001b[0m \u001b[134m'win32'\u001b[0m\u001b[133m:\u001b[0m\u001b[133m\u001b[0m\u001b[133m\u001b[0m\u001b[0m\n\u001b[032m    313\u001b[0m         \u001b[132mdef\u001b[0m \u001b[0m_select\u001b[0m\u001b[133m(\u001b[0m\u001b[0mself\u001b[0m\u001b[133m,\u001b[0m \u001b[0mr\u001b[0m\u001b[133m,\u001b[0m \u001b[0mw\u001b[0m\u001b[133m,\u001b[0m \u001b[0m_\u001b[0m\u001b[133m,\u001b[0m \u001b[0mtimeout\u001b[0m\u001b[133m=\u001b[0m\u001b[132mNone\u001b[0m\u001b[133m)\u001b[0m\u001b[133m:\u001b[0m\u001b[133m\u001b[0m\u001b[133m\u001b[0m\u001b[0m\n\u001b[132m--> 314\u001b[133m             \u001b[0mr\u001b[0m\u001b[133m,\u001b[0m \u001b[0mw\u001b[0m\u001b[133m,\u001b[0m \u001b[0mx\u001b[0m \u001b[133m=\u001b[0m \u001b[0mselect\u001b[0m\u001b[133m.\u001b[0m\u001b[0mselect\u001b[0m\u001b[133m(\u001b[0m\u001b[0mr\u001b[0m\u001b[133m,\u001b[0m \u001b[0mw\u001b[0m\u001b[133m,\u001b[0m \u001b[0mw\u001b[0m\u001b[133m,\u001b[0m \u001b[0mtimeout\u001b[0m\u001b[133m)\u001b[0m\u001b[133m\u001b[0m\u001b[133m\u001b[0m\u001b[0m\n\u001b[0m\u001b[032m    315\u001b[0m             \u001b[132mreturn\u001b[0m \u001b[0mr\u001b[0m\u001b[133m,\u001b[0m \u001b[0mw\u001b[0m \u001b[133m+\u001b[0m \u001b[0mx\u001b[0m\u001b[133m,\u001b[0m \u001b[133m[\u001b[0m\u001b[133m]\u001b[0m\u001b[133m\u001b[0m\u001b[133m\u001b[0m\u001b[0m\n\u001b[032m    316\u001b[0m     \u001b[132melse\u001b[0m\u001b[133m:\u001b[0m\u001b[133m\u001b[0m\u001b[133m\u001b[0m\u001b[0m\n",
      "\u001b[131mKeyboardInterrupt\u001b[0m: "
     ]
    }
   ],
   "source": [
    "# Test agent against yourself\n",
    "asyncio.get_event_loop().run_until_complete(t.battle_human(\"meatout\"))"
   ]
  },
  {
   "cell_type": "code",
   "execution_count": null,
   "metadata": {},
   "outputs": [],
   "source": []
  }
 ],
 "metadata": {
  "kernelspec": {
   "display_name": "Python (pkmn)",
   "language": "python",
   "name": "pk_env"
  },
  "language_info": {
   "codemirror_mode": {
    "name": "ipython",
    "version": 3
   },
   "file_extension": ".py",
   "mimetype": "text/x-python",
   "name": "python",
   "nbconvert_exporter": "python",
   "pygments_lexer": "ipython3",
   "version": "3.6.10"
  }
 },
 "nbformat": 4,
 "nbformat_minor": 2
}
