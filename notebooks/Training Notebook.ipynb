{
 "cells": [
  {
   "cell_type": "markdown",
   "metadata": {},
   "source": [
    "# Training Notebook\n",
    "\n",
    "Use this to train and interact with an agent in real time rather than having it run in the background"
   ]
  },
  {
   "cell_type": "code",
   "execution_count": 1,
   "metadata": {},
   "outputs": [
    {
     "name": "stdout",
     "output_type": "stream",
     "text": [
      "env: WANDB_NOTEBOOK_NAME=/home/jovyan/work/notebooks/Traning Notebook.ipynb\n"
     ]
    },
    {
     "name": "stderr",
     "output_type": "stream",
     "text": [
      "\u001b[34m\u001b[1mwandb\u001b[0m: \u001b[33mWARNING\u001b[0m WANDB_NOTEBOOK_NAME should be a path to a notebook file, couldn't find /home/jovyan/work/notebooks/Traning Notebook.ipynb\n",
      "/opt/conda/envs/pb_env/lib/python3.7/site-packages/IPython/html.py:14: ShimWarning: The `IPython.html` package has been deprecated since IPython 4.0. You should import from `notebook` instead. `IPython.html.widgets` has moved to `ipywidgets`.\n",
      "  \"`IPython.html.widgets` has moved to `ipywidgets`.\", ShimWarning)\n",
      "\u001b[34m\u001b[1mwandb\u001b[0m: W&B syncing is set to `offline` in this directory.  Run `wandb online` or set WANDB_MODE=online to enable cloud syncing.\n",
      "2021-05-09 05:53:43,209 - RandomPlayer 1 - ERROR - Multiple exceptions: [Errno 111] Connect call failed ('127.0.0.1', 8000), [Errno 99] Cannot assign requested address\n",
      "Traceback (most recent call last):\n",
      "  File \"/opt/conda/envs/pb_env/lib/python3.7/asyncio/base_events.py\", line 949, in create_connection\n",
      "    await self.sock_connect(sock, address)\n",
      "  File \"/opt/conda/envs/pb_env/lib/python3.7/asyncio/selector_events.py\", line 473, in sock_connect\n",
      "    return await fut\n",
      "  File \"/opt/conda/envs/pb_env/lib/python3.7/asyncio/futures.py\", line 263, in __await__\n",
      "    yield self  # This tells Task to wait for completion.\n",
      "  File \"/opt/conda/envs/pb_env/lib/python3.7/asyncio/tasks.py\", line 318, in __wakeup\n",
      "    future.result()\n",
      "  File \"/opt/conda/envs/pb_env/lib/python3.7/asyncio/futures.py\", line 181, in result\n",
      "    raise self._exception\n",
      "  File \"/opt/conda/envs/pb_env/lib/python3.7/asyncio/selector_events.py\", line 503, in _sock_connect_cb\n",
      "    raise OSError(err, f'Connect call failed {address}')\n",
      "ConnectionRefusedError: [Errno 111] Connect call failed ('127.0.0.1', 8000)\n",
      "\n",
      "During handling of the above exception, another exception occurred:\n",
      "\n",
      "Traceback (most recent call last):\n",
      "  File \"/opt/conda/envs/pb_env/lib/python3.7/site-packages/poke_env/player/player_network_interface.py\", line 243, in listen\n",
      "    self.websocket_url, max_queue=None\n",
      "  File \"/opt/conda/envs/pb_env/lib/python3.7/site-packages/websockets/legacy/client.py\", line 604, in __aenter__\n",
      "    return await self\n",
      "  File \"/opt/conda/envs/pb_env/lib/python3.7/site-packages/websockets/legacy/client.py\", line 622, in __await_impl__\n",
      "    transport, protocol = await self._create_connection()\n",
      "  File \"/opt/conda/envs/pb_env/lib/python3.7/asyncio/base_events.py\", line 971, in create_connection\n",
      "    ', '.join(str(exc) for exc in exceptions)))\n",
      "OSError: Multiple exceptions: [Errno 111] Connect call failed ('127.0.0.1', 8000), [Errno 99] Cannot assign requested address\n"
     ]
    }
   ],
   "source": [
    "%env WANDB_NOTEBOOK_NAME=/home/jovyan/work/notebooks/Traning Notebook.ipynb\n",
    "\n",
    "import asyncio\n",
    "import nest_asyncio\n",
    "nest_asyncio.apply()\n",
    "\n",
    "import os\n",
    "import dotmap\n",
    "import json\n",
    "import importlib\n",
    "import wandb\n",
    "\n",
    "from poke_env.player.random_player import RandomPlayer\n",
    "from poke_env.player.baselines import MaxBasePowerPlayer, SimpleHeuristicsPlayer\n",
    "from poke_env.player.utils import cross_evaluate\n",
    "from tabulate import tabulate\n",
    "from poke_env.server_configuration import ServerConfiguration\n",
    "from poke_env.player_configuration import PlayerConfiguration\n",
    "\n",
    "from pokebot import BotPlayer\n",
    "    \n",
    "server_config = ServerConfiguration(\n",
    "    \"ps:8000\",\n",
    "    \"authentication-endpoint.com/action.php?\"\n",
    ")\n",
    "\n",
    "async def main():\n",
    "    # We create three random players\n",
    "    players = [\n",
    "        RandomPlayer(max_concurrent_battles=10, server_configuration=server_config),\n",
    "        BotPlayer(max_concurrent_battles=10, server_configuration=server_config),\n",
    "    ]\n",
    "\n",
    "    # Now, we can cross evaluate them: every player will player 20 games against every\n",
    "    # other player.\n",
    "    cross_evaluation = await cross_evaluate(players, n_challenges=20)\n",
    "\n",
    "    # Defines a header for displaying results\n",
    "    table = [[\"-\"] + [p.username for p in players]]\n",
    "\n",
    "    # Adds one line per player with corresponding results\n",
    "    for p_1, results in cross_evaluation.items():\n",
    "        table.append([p_1] + [cross_evaluation[p_1][p_2] for p_2 in results])\n",
    "\n",
    "    # Displays results in a nicely formatted table.\n",
    "    print(tabulate(table))\n",
    "\n",
    "\n",
    "# await main()\n",
    "\n"
   ]
  },
  {
   "cell_type": "code",
   "execution_count": 2,
   "metadata": {},
   "outputs": [],
   "source": [
    "#TODO: pipeline change, define output file in json\n",
    "\n",
    "async def trainer(hparams, fp):\n",
    "    p_dict = hparams.policy\n",
    "    a_dict = hparams.agent\n",
    "\n",
    "    SEngine = importlib.import_module('pokebot.bots.state_engine')\n",
    "    se_clazz = getattr(SEngine, hparams.state_engine)\n",
    "    se_dict = hparams.se_params if hparams.se_params else {}\n",
    "\n",
    "    player = BotPlayer(\n",
    "        player_configuration=PlayerConfiguration(\"JoeNextLine\", None),\n",
    "        server_configuration=server_config,\n",
    "        state_engine=se_clazz(**se_dict)\n",
    "    )\n",
    "\n",
    "    m_lib = importlib.import_module('pokebot.models')\n",
    "    m_clazz = getattr(m_lib, hparams.model)\n",
    "    m_dict = hparams.model_params if hparams.model_params else {}\n",
    "\n",
    "    model = m_clazz(player, **m_dict)\n",
    "\n",
    "    train_lib = importlib.import_module('pokebot.trainers.trainer')\n",
    "    t_class = getattr(train_lib, hparams.trainer)\n",
    "    t_dict = hparams.trainer_params if hparams.trainer_params else {}\n",
    "    trainer = t_class(player, model, p_dict, a_dict, **t_dict)\n",
    "    \n",
    "    if os.path.exists(fp):\n",
    "        \n",
    "        trainer.agent.load_weights(fp)\n",
    "\n",
    "    return trainer\n",
    "\n",
    "async def train(trainer, fp):\n",
    "    await trainer.train()\n",
    "\n",
    "    opponents = [RandomPlayer(battle_format=\"gen8randombattle\", server_configuration=server_config),\n",
    "                 MaxBasePowerPlayer(battle_format=\"gen8randombattle\", server_configuration=server_config),\n",
    "                 SimpleHeuristicsPlayer(battle_format=\"gen8randombattle\", server_configuration=server_config)]\n",
    "\n",
    "    print(\"Beginning Eval\")\n",
    "\n",
    "    await trainer.evaluate(opponents, logger=None) # TODO: Fix wandb logging\n",
    "\n",
    "    trainer.agent.save_weights(fp)\n",
    "    "
   ]
  },
  {
   "cell_type": "code",
   "execution_count": 3,
   "metadata": {},
   "outputs": [
    {
     "data": {
      "text/html": [
       "Finishing last run (ID:1rn94m6o) before initializing another..."
      ],
      "text/plain": [
       "<IPython.core.display.HTML object>"
      ]
     },
     "metadata": {},
     "output_type": "display_data"
    },
    {
     "data": {
      "text/html": [
       "<br/>Waiting for W&B process to finish, PID 10070<br/>Program ended successfully."
      ],
      "text/plain": [
       "<IPython.core.display.HTML object>"
      ]
     },
     "metadata": {},
     "output_type": "display_data"
    },
    {
     "data": {
      "text/html": [
       "Find user logs for this run at: <code>/home/jovyan/work/notebooks/wandb/offline-run-20210509_055341-1rn94m6o/logs/debug.log</code>"
      ],
      "text/plain": [
       "<IPython.core.display.HTML object>"
      ]
     },
     "metadata": {},
     "output_type": "display_data"
    },
    {
     "data": {
      "text/html": [
       "Find internal logs for this run at: <code>/home/jovyan/work/notebooks/wandb/offline-run-20210509_055341-1rn94m6o/logs/debug-internal.log</code>"
      ],
      "text/plain": [
       "<IPython.core.display.HTML object>"
      ]
     },
     "metadata": {},
     "output_type": "display_data"
    },
    {
     "name": "stderr",
     "output_type": "stream",
     "text": [
      "\u001b[34m\u001b[1mwandb\u001b[0m: You can sync this run to the cloud by running:\n",
      "\u001b[34m\u001b[1mwandb\u001b[0m: \u001b[33mwandb sync /home/jovyan/work/notebooks/wandb/offline-run-20210509_055341-1rn94m6o\u001b[0m\n"
     ]
    },
    {
     "data": {
      "text/html": [
       "...Successfully finished last run (ID:1rn94m6o). Initializing new run:<br/><br/>"
      ],
      "text/plain": [
       "<IPython.core.display.HTML object>"
      ]
     },
     "metadata": {},
     "output_type": "display_data"
    },
    {
     "name": "stderr",
     "output_type": "stream",
     "text": [
      "\u001b[34m\u001b[1mwandb\u001b[0m: W&B syncing is set to `offline` in this directory.  Run `wandb online` or set WANDB_MODE=online to enable cloud syncing.\n"
     ]
    }
   ],
   "source": [
    "wandb.init()\n",
    "\n",
    "PIPELINE_PATH = os.path.join(os.curdir, \"hparams.json\")\n",
    "hparams = dotmap.DotMap(json.load(open(PIPELINE_PATH, 'r')))\n",
    "SAVE_PATH = os.path.join(wandb.run.dir, \"test3_randbootstrap.h5\")\n",
    "\n",
    "wandb.config.update(hparams, allow_val_change=True)\n",
    "\n",
    "save_path = SAVE_PATH\n",
    "\n",
    "t = await trainer(hparams, save_path)"
   ]
  },
  {
   "cell_type": "code",
   "execution_count": 4,
   "metadata": {},
   "outputs": [
    {
     "name": "stdout",
     "output_type": "stream",
     "text": [
      "Training for 10000 steps ...\n",
      "Interval 1 (0 steps performed)\n",
      "10000/10000 [==============================] - 129s 13ms/step - reward: 0.3020\n",
      "done, took 128.909 seconds\n",
      "Beginning Eval\n",
      "Results against player: RandomPlayer 3\n",
      "DQN Evaluation: 95 victories out of 100 episodes\n",
      "Results against player: MaxBasePowerPlay 1\n",
      "DQN Evaluation: 57 victories out of 100 episodes\n",
      "Results against player: SimpleHeuristics 1\n",
      "DQN Evaluation: 9 victories out of 100 episodes\n"
     ]
    }
   ],
   "source": [
    "await train(t, save_path)"
   ]
  },
  {
   "cell_type": "code",
   "execution_count": null,
   "metadata": {},
   "outputs": [],
   "source": [
    "# # Load old model from wandb\n",
    "# model_name = \"betterthanrandom.h5\"\n",
    "\n",
    "# RUN_ID = \"21wl53z8\"\n",
    "\n",
    "# MODEL_PATH = \"notebooks/wandb/run-20200620_164732-3mmjfttq/test2.h5\"\n",
    "\n",
    "# ABS_PATH = \"C:\\\\Users\\\\nacha\\\\Desktop\\\\PokeCode\\\\pokebot\\\\notebooks\\\\wandb\\\\run-20200620_214116-33ypcx1z\\\\test3_randbootstrap.h5\"\n",
    "\n",
    "# # weights_file = wandb.restore(model_name, run_path=MODEL_PATH, root=os.curdir)\n",
    "\n",
    "# t.agent.load_weights(ABS_PATH)"
   ]
  },
  {
   "cell_type": "code",
   "execution_count": 5,
   "metadata": {},
   "outputs": [
    {
     "name": "stdout",
     "output_type": "stream",
     "text": [
      "DQN Evaluation: 1 victories out of 1 episodes\n"
     ]
    }
   ],
   "source": [
    "# Test agent against yourself\n",
    "asyncio.get_event_loop().run_until_complete(t.battle_human(\"meatout\"))"
   ]
  },
  {
   "cell_type": "code",
   "execution_count": null,
   "metadata": {},
   "outputs": [],
   "source": []
  }
 ],
 "metadata": {
  "kernelspec": {
   "display_name": "Python 3",
   "language": "python",
   "name": "python3"
  },
  "language_info": {
   "codemirror_mode": {
    "name": "ipython",
    "version": 3
   },
   "file_extension": ".py",
   "mimetype": "text/x-python",
   "name": "python",
   "nbconvert_exporter": "python",
   "pygments_lexer": "ipython3",
   "version": "3.9.2"
  }
 },
 "nbformat": 4,
 "nbformat_minor": 4
}
